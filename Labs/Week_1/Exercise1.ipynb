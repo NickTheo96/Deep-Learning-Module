{
 "cells": [
  {
   "cell_type": "markdown",
   "metadata": {},
   "source": [
    "# Lab session 1"
   ]
  },
  {
   "cell_type": "markdown",
   "metadata": {},
   "source": [
    "The aim of this session is to give you a (small) amount of experience writing Python - in addition, you should work through (most of) the chapters in McKinney, which gives a concise introduction. \n",
    "\n",
    "The second aim is to write a small Python programming for fitting a line to data, using gradient descent, and to gain an intuitive understanding of the behaviour of gradient descent by visualising the results, and experimenting with different parameter values. "
   ]
  },
  {
   "cell_type": "code",
   "execution_count": 5,
   "metadata": {},
   "outputs": [],
   "source": [
    "import numpy as np\n",
    "import math     # these commands allow us to use functions in the numpy and math modules"
   ]
  },
  {
   "cell_type": "markdown",
   "metadata": {},
   "source": [
    "## Creating vectors and matrices"
   ]
  },
  {
   "cell_type": "code",
   "execution_count": null,
   "metadata": {},
   "outputs": [],
   "source": [
    "d = [1, 2, 7.5, 3, -1, 4]"
   ]
  },
  {
   "cell_type": "markdown",
   "metadata": {},
   "source": [
    "What type is d? "
   ]
  },
  {
   "cell_type": "code",
   "execution_count": null,
   "metadata": {},
   "outputs": [],
   "source": [
    "type(d)"
   ]
  },
  {
   "cell_type": "markdown",
   "metadata": {},
   "source": [
    "Ah! Unlike in matlab this is not a vector - it is a list. \n",
    "\n",
    "list is a core Python type which is not implemented as an array. To make an efficient numpy array, we need to use numpy commands. The most basic one is `np.array`"
   ]
  },
  {
   "cell_type": "code",
   "execution_count": 6,
   "metadata": {},
   "outputs": [],
   "source": [
    "a = np.array([2,3, 7, -23.2])"
   ]
  },
  {
   "cell_type": "code",
   "execution_count": 7,
   "metadata": {},
   "outputs": [
    {
     "data": {
      "text/plain": [
       "numpy.ndarray"
      ]
     },
     "execution_count": 7,
     "metadata": {},
     "output_type": "execute_result"
    }
   ],
   "source": [
    "type(a)"
   ]
  },
  {
   "cell_type": "markdown",
   "metadata": {},
   "source": [
    "We can also make numpy arrays by generation arrays directly full of random numbers, or zeros"
   ]
  },
  {
   "cell_type": "code",
   "execution_count": 8,
   "metadata": {},
   "outputs": [
    {
     "data": {
      "text/plain": [
       "array([[0.04682008, 0.02223779, 0.06916272, 0.91736966, 0.36124464],\n",
       "       [0.56778206, 0.34409004, 0.8441917 , 0.92994295, 0.71693018],\n",
       "       [0.28546509, 0.1968618 , 0.09366161, 0.07868729, 0.87729699]])"
      ]
     },
     "execution_count": 8,
     "metadata": {},
     "output_type": "execute_result"
    }
   ],
   "source": [
    "b = np.random.random([3,5]) # uniform random numbers between 0 and 1\n",
    "b"
   ]
  },
  {
   "cell_type": "markdown",
   "metadata": {},
   "source": [
    "Annoyingly, the corresponding function for generating normal random variates has a different syntax ! \n",
    "Can anyone find out why? \n",
    "Look:"
   ]
  },
  {
   "cell_type": "code",
   "execution_count": 9,
   "metadata": {},
   "outputs": [
    {
     "data": {
      "text/plain": [
       "array([[-1.00859032,  0.56664404],\n",
       "       [ 2.17772921,  0.39556663],\n",
       "       [ 2.48692534, -1.98379585],\n",
       "       [-1.4599046 ,  0.16435026]])"
      ]
     },
     "execution_count": 9,
     "metadata": {},
     "output_type": "execute_result"
    }
   ],
   "source": [
    "b = np.random.randn(4,2) # normally distributed random numbers with mean 0 and standard deviation 1\n",
    "b"
   ]
  },
  {
   "cell_type": "markdown",
   "metadata": {},
   "source": [
    "You can get documentation and help on a function by typing a question mark in front of it: "
   ]
  },
  {
   "cell_type": "code",
   "execution_count": null,
   "metadata": {
    "collapsed": true
   },
   "outputs": [],
   "source": [
    "?np.random.randn"
   ]
  },
  {
   "cell_type": "markdown",
   "metadata": {},
   "source": [
    "`np.zeros` has the same syntax as `np.random.random`"
   ]
  },
  {
   "cell_type": "code",
   "execution_count": null,
   "metadata": {},
   "outputs": [],
   "source": [
    "b = np.zeros([3,2])\n",
    "b"
   ]
  },
  {
   "cell_type": "code",
   "execution_count": null,
   "metadata": {
    "collapsed": true
   },
   "outputs": [],
   "source": [
    "You should look at the documentation for most of the functions we use in this exercise. "
   ]
  },
  {
   "cell_type": "markdown",
   "metadata": {},
   "source": [
    "## Visualising arrays and vectors"
   ]
  },
  {
   "cell_type": "markdown",
   "metadata": {},
   "source": [
    "In mathematical programming, you calculate large arrays of numbers. The only way of knowing what is going on is to visualise these arrays.\n",
    "\n",
    "There are two functions I use more frequently than any others: `imshow` and `plot`, both of which are in the `matplotlib.pyplot` module, which must be imported"
   ]
  },
  {
   "cell_type": "code",
   "execution_count": 13,
   "metadata": {},
   "outputs": [],
   "source": [
    "import matplotlib.pyplot as plt  # it is more convenient to type plt than matplotlib.pyplot every time\n",
    "\n",
    "# the following 'magic' instruction makes the plots appear in the notebook itself\n",
    "%matplotlib inline  "
   ]
  },
  {
   "cell_type": "markdown",
   "metadata": {},
   "source": [
    "### imshow : plotting a matrix as a colormap"
   ]
  },
  {
   "cell_type": "code",
   "execution_count": null,
   "metadata": {},
   "outputs": [],
   "source": [
    "a = np.random.random([2,3])\n",
    "a"
   ]
  },
  {
   "cell_type": "code",
   "execution_count": null,
   "metadata": {},
   "outputs": [],
   "source": [
    "plt.imshow(a)\n",
    "plt.colorbar()"
   ]
  },
  {
   "cell_type": "markdown",
   "metadata": {},
   "source": [
    "imshow( <matrix> )   # this shows the matrix as a colormap. Useful for seeing what is in the matrix\n",
    "colorbar()           # puts a colour scale to one side of the matrix, so that you can see what the values are. "
   ]
  },
  {
   "cell_type": "code",
   "execution_count": null,
   "metadata": {},
   "outputs": [],
   "source": [
    "v = np.cumsum( np.array( [1,2,3,17,-6])) # cumsum works as in matlab"
   ]
  },
  {
   "cell_type": "code",
   "execution_count": null,
   "metadata": {},
   "outputs": [],
   "source": [
    "v"
   ]
  },
  {
   "cell_type": "code",
   "execution_count": null,
   "metadata": {
    "scrolled": true
   },
   "outputs": [],
   "source": [
    "plt.plot( v )"
   ]
  },
  {
   "cell_type": "code",
   "execution_count": null,
   "metadata": {},
   "outputs": [],
   "source": [
    "x = np.random.randn(100,1)\n",
    "y = np.random.randn(100,1)\n",
    "\n",
    "plt.plot(x,y,'r.') # red dots"
   ]
  },
  {
   "cell_type": "code",
   "execution_count": null,
   "metadata": {},
   "outputs": [],
   "source": [
    "plt.plot(x,y,'.')\n",
    "u = np.random.randn(20,1)\n",
    "v = np.random.randn(20,1)\n",
    "plt.plot(u,v,'r.')"
   ]
  },
  {
   "cell_type": "markdown",
   "metadata": {},
   "source": [
    "Note that if several plotting commands are given in the same Jupyter cell, the plots appear on top of each other, just as if in matlab one had typed `hold on`"
   ]
  },
  {
   "cell_type": "code",
   "execution_count": null,
   "metadata": {},
   "outputs": [],
   "source": [
    "math.sqrt( np.mean(a * a) )"
   ]
  },
  {
   "cell_type": "code",
   "execution_count": null,
   "metadata": {},
   "outputs": [],
   "source": [
    "plt.plot([1,2],[3,4])"
   ]
  },
  {
   "cell_type": "markdown",
   "metadata": {},
   "source": [
    "# Finding a line of best fit by gradient descent"
   ]
  },
  {
   "cell_type": "markdown",
   "metadata": {},
   "source": [
    "First we define some (synthetic) data to work with, consisting of x values and y values"
   ]
  },
  {
   "cell_type": "code",
   "execution_count": 10,
   "metadata": {},
   "outputs": [
    {
     "data": {
      "text/plain": [
       "array([0, 1, 2, 3, 4, 5, 6, 7, 8, 9])"
      ]
     },
     "execution_count": 10,
     "metadata": {},
     "output_type": "execute_result"
    }
   ],
   "source": [
    "x_data = np.array( [x for x in range(0,10)])\n",
    "x_data"
   ]
  },
  {
   "cell_type": "code",
   "execution_count": 11,
   "metadata": {},
   "outputs": [],
   "source": [
    "y_data = 1.1 + 0.6 * x_data +  np.random.randn(x_data.size)"
   ]
  },
  {
   "cell_type": "code",
   "execution_count": 14,
   "metadata": {},
   "outputs": [
    {
     "data": {
      "text/plain": [
       "[<matplotlib.lines.Line2D at 0x10fa9f9b0>]"
      ]
     },
     "execution_count": 14,
     "metadata": {},
     "output_type": "execute_result"
    },
    {
     "data": {
      "image/png": "[encoded data removed]",
      "text/plain": [
       "<Figure size 432x288 with 1 Axes>"
      ]
     },
     "metadata": {
      "needs_background": "light"
     },
     "output_type": "display_data"
    }
   ],
   "source": [
    "plt.plot(x_data,y_data,'.')"
   ]
  },
  {
   "cell_type": "markdown",
   "metadata": {},
   "source": [
    "We have data $(x_1, y_1), \\ldots, (x_n, y_n)$\n",
    "\n",
    "Now we want to find the line of best fit through this data.  \n",
    "\n",
    "We are going to do this using gradient descent. \n",
    "\n",
    "First, how do we define a line? \n",
    "\n",
    "$\\hat{y} = m x + c$\n",
    "\n",
    "We put the hat over $y$ to show it is a prediction, not the data value. \n",
    "\n",
    "There are two parameters to find: $m$ and $c$\n",
    "\n",
    "Next, what is \"best fit\"?\n",
    "\n",
    "Given parameter values $m$ and $c$, our prediction of $y_i$ is\n",
    "\n",
    "$\\hat{y}_i = m x_i + c$\n",
    "\n",
    "We use mean squared prediction error $J$ as the measure of goodness of fit: \n",
    "\n",
    "$J = \\frac{1}{n}\\sum_{i=1}^n (\\hat{y}_i - y_i)^2$\n",
    "\n",
    "Let us create a function that calculates $J$ from $x$, $y$, $m$, and $c$"
   ]
  },
  {
   "cell_type": "code",
   "execution_count": 15,
   "metadata": {},
   "outputs": [],
   "source": [
    "def calculate_J(x,y,m,c):\n",
    "    \"\"\"\n",
    "    x, y are ndarrays of the same length\n",
    "    m and c are floating point numbers giving gradient and intercept of a line\n",
    "    \"\"\"\n",
    "    yhat  = m * x + c\n",
    "    errs = (yhat - y)**2\n",
    "    J = np.mean( errs )\n",
    "    return J"
   ]
  },
  {
   "cell_type": "code",
   "execution_count": 16,
   "metadata": {},
   "outputs": [],
   "source": [
    "m_values = np.linspace(0,1,200)\n",
    "c_values = np.linspace(0,2,200)"
   ]
  },
  {
   "cell_type": "code",
   "execution_count": null,
   "metadata": {
    "collapsed": true
   },
   "outputs": [],
   "source": [
    "`linspace` "
   ]
  },
  {
   "cell_type": "code",
   "execution_count": 17,
   "metadata": {},
   "outputs": [],
   "source": [
    "J_grid = np.zeros([m_values.size,c_values.size])\n",
    "\n",
    "for m_index in range(0,m_values.size):\n",
    "    for c_index in range(0,c_values.size):\n",
    "        J_grid[m_index,c_index] = calculate_J(x_data, y_data, m_values[m_index], c_values[c_index] )    "
   ]
  },
  {
   "cell_type": "code",
   "execution_count": 18,
   "metadata": {},
   "outputs": [
    {
     "data": {
      "text/plain": [
       "<matplotlib.colorbar.Colorbar at 0x10fbbe320>"
      ]
     },
     "execution_count": 18,
     "metadata": {},
     "output_type": "execute_result"
    },
    {
     "data": {
      "image/png": "[encoded data removed]",
      "text/plain": [
       "<Figure size 432x288 with 2 Axes>"
      ]
     },
     "metadata": {
      "needs_background": "light"
     },
     "output_type": "display_data"
    }
   ],
   "source": [
    "plt.imshow(J_grid.transpose(), origin='lower',extent=[0,1,0,2])\n",
    "plt.colorbar()"
   ]
  },
  {
   "cell_type": "markdown",
   "metadata": {
    "collapsed": true
   },
   "source": [
    "The x-axis corresponds to values of m; the y-axis corresponds to values of c. \n",
    "\n",
    "The colour shows the value of J for each combination of values of m and c. \n",
    "\n",
    "This colour map is a little hard to read. We are interested in the position of the p"
   ]
  },
  {
   "cell_type": "code",
   "execution_count": 19,
   "metadata": {},
   "outputs": [
    {
     "data": {
      "text/plain": [
       "<matplotlib.colorbar.Colorbar at 0x10fd79390>"
      ]
     },
     "execution_count": 19,
     "metadata": {},
     "output_type": "execute_result"
    },
    {
     "data": {
      "image/png": "[encoded data removed]",
      "text/plain": [
       "<Figure size 432x288 with 2 Axes>"
      ]
     },
     "metadata": {
      "needs_background": "light"
     },
     "output_type": "display_data"
    }
   ],
   "source": [
    "plt.imshow(1. / J_grid.transpose(), origin='lower',extent=[0,1,0,2])\n",
    "plt.colorbar()"
   ]
  },
  {
   "cell_type": "code",
   "execution_count": 20,
   "metadata": {},
   "outputs": [],
   "source": [
    "def J_gradient(x,y,m,c):\n",
    "    \"\"\"\n",
    "    x, y are ndarrays of the same length\n",
    "    m and c are floating point numbers giving gradient and intercept of a line\n",
    "    \n",
    "    Returns the gradient J with respect to \n",
    "    \"\"\"\n",
    "    yhat = m*x + c \n",
    "    c_grads = 2 * (yhat - y)\n",
    "    m_grads = 2 * (yhat - y) * x\n",
    "    # now take the means of these, since J is the mean of the square error\n",
    "    c_grad = np.mean( c_grads )\n",
    "    m_grad = np.mean( m_grads )\n",
    "    return (m_grad, c_grad)"
   ]
  },
  {
   "cell_type": "code",
   "execution_count": 21,
   "metadata": {},
   "outputs": [
    {
     "data": {
      "text/plain": [
       "(-47.55364040419694, -8.411346171577863)"
      ]
     },
     "execution_count": 21,
     "metadata": {},
     "output_type": "execute_result"
    }
   ],
   "source": [
    "J_gradient(x_data,y_data,0,0)"
   ]
  },
  {
   "cell_type": "code",
   "execution_count": 22,
   "metadata": {},
   "outputs": [
    {
     "data": {
      "text/plain": [
       "(-3.4536404041969404, -0.8113461715778628)"
      ]
     },
     "execution_count": 22,
     "metadata": {},
     "output_type": "execute_result"
    }
   ],
   "source": [
    "J_gradient(x_data,y_data, 0.6, 1.1)"
   ]
  },
  {
   "cell_type": "markdown",
   "metadata": {},
   "source": [
    "Now let us try to optimise by gradient descent"
   ]
  },
  {
   "cell_type": "code",
   "execution_count": 64,
   "metadata": {},
   "outputs": [],
   "source": [
    "# Original formula\n",
    "m = 0.0\n",
    "c = 0.0 \n",
    "\n",
    "m_path = [m]\n",
    "c_path = [c]\n",
    "\n",
    "n_iterations = 200\n",
    "learning_rate = 0.034\n",
    "\n",
    "for n in range(1,n_iterations):\n",
    "    m_grad, c_grad = J_gradient(x_data, y_data, m, c )\n",
    "    m = m - learning_rate * m_grad\n",
    "    c = c - learning_rate * c_grad\n",
    "    m_path.append(m)\n",
    "    c_path.append(c)\n",
    "    \n",
    "# at this point you may want to inspect m_path and c_path"
   ]
  },
  {
   "cell_type": "code",
   "execution_count": null,
   "metadata": {},
   "outputs": [],
   "source": [
    "# Formula modified for m change and c change...(next thing to work on)\n",
    "\n",
    "m = 0.0\n",
    "c = 0.0 \n",
    "x_data[0] = 0.0\n",
    "y_data[0] =0.0\n",
    "\n",
    "m_path = [m]\n",
    "c_path = [c]\n",
    "\n",
    "n_iterations = 200\n",
    "learning_rate = 0.034\n",
    "\n",
    "for n in range(1,n_iterations):\n",
    "    m_grad, c_grad = J_gradient(x_data, y_data, m, c )\n",
    "    m_change, c_change = J_gradient(x_data, y_data, m, c )\n",
    "    m = m - learning_rate * m_grad\n",
    "    c = c - learning_rate * c_grad\n",
    "    m_path.append(m)\n",
    "    c_path.append(c)\n",
    "    "
   ]
  },
  {
   "cell_type": "code",
   "execution_count": 65,
   "metadata": {},
   "outputs": [
    {
     "data": {
      "text/plain": [
       "[<matplotlib.lines.Line2D at 0x113edb390>]"
      ]
     },
     "execution_count": 65,
     "metadata": {},
     "output_type": "execute_result"
    },
    {
     "data": {
      "image/png": "[encoded data removed]",
      "text/plain": [
       "<Figure size 432x288 with 2 Axes>"
      ]
     },
     "metadata": {
      "needs_background": "light"
     },
     "output_type": "display_data"
    }
   ],
   "source": [
    "plt.imshow(1. / J_grid.transpose(), origin='lower',extent=[0,1,0,2])\n",
    "plt.colorbar()\n",
    "plt.plot(m_path,c_path,'r')\n",
    "plt.plot(m_path,c_path,'r.')"
   ]
  },
  {
   "cell_type": "markdown",
   "metadata": {},
   "source": [
    "Tasks for you to do: \n",
    "    \n",
    "1. What happens if the learning rate is high? (Inspect the values on the paths)\n",
    "\n",
    "A) The proccess doesn't converge\n",
    "\n",
    "2. What is the highest value of the learning rate for which this process converges?\n",
    "\n",
    "A) learning_rate = 0.03422\n",
    "\n",
    "3. Alter the code to record the value of J at each point along the path. For what values of learning rate does J decrease fastest? Can you plot how J decreases with the number of iterations? \n",
    "\n",
    "4. Try using gradient descent with momentum. Alter the code so that you record the previous change in m and in c, (call these m_change, and c_change). On the next loop iteration, use m_change = momentum * m_change - learning_rate * m_grad, and similarly for c.  Then change m by m = m + m_delta,  c = c + c_delta. \n",
    "\n",
    "5. What is the effect of increasing / reducing the x_data (that is, multiply the x_data by 10? and see what happens to the error surface, and gradient descent convergence.\n",
    "\n",
    "6. Intuitively, why is J so much more sensitive to m than to c here?  \n",
    "\n",
    "7. Can you plot the lines corresponding to the estimated values of m and c during optimisation ? \n",
    "\n",
    " "
   ]
  },
  {
   "cell_type": "code",
   "execution_count": null,
   "metadata": {
    "collapsed": true
   },
   "outputs": [],
   "source": []
  }
 ],
 "metadata": {
  "kernelspec": {
   "display_name": "Python 3",
   "language": "python",
   "name": "python3"
  },
  "language_info": {
   "codemirror_mode": {
    "name": "ipython",
    "version": 3
   },
   "file_extension": ".py",
   "mimetype": "text/x-python",
   "name": "python",
   "nbconvert_exporter": "python",
   "pygments_lexer": "ipython3",
   "version": "3.7.0"
  }
 },
 "nbformat": 4,
 "nbformat_minor": 2
}
